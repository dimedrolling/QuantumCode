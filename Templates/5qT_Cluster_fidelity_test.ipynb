{
 "cells": [
  {
   "cell_type": "code",
   "execution_count": 1,
   "id": "7f525039",
   "metadata": {},
   "outputs": [],
   "source": [
    "import qiskit\n",
    "\n",
    "from qiskit import transpile, QuantumCircuit, QuantumRegister, ClassicalRegister\n",
    "\n",
    "\n",
    "\n",
    "from qiskit import IBMQ\n",
    "from qiskit import Aer,BasicAer, execute, assemble\n",
    "from qiskit.providers.aer import AerSimulator\n",
    "import qiskit.providers.aer.noise as noise\n",
    "from qiskit.providers.aer.noise import NoiseModel, amplitude_damping_error,phase_damping_error\n",
    "\n",
    "\n",
    "import numpy as np\n",
    "from numpy import pi\n",
    "\n",
    "import matplotlib as mpl\n",
    "import matplotlib.pyplot as plt\n",
    "\n",
    "from qiskit.tools.visualization import plot_histogram, plot_state_city\n",
    "\n",
    "import qiskit.quantum_info as qi\n",
    "from qiskit.quantum_info import state_fidelity\n",
    "from qiskit.quantum_info import partial_trace, Statevector\n",
    "\n",
    "\n"
   ]
  },
  {
   "cell_type": "code",
   "execution_count": 3,
   "id": "9eed73f8",
   "metadata": {},
   "outputs": [
    {
     "name": "stderr",
     "output_type": "stream",
     "text": [
      "configrc.store_credentials:WARNING:2022-03-26 10:30:47,119: Credentials already present. Set overwrite=True to overwrite.\n"
     ]
    }
   ],
   "source": [
    " # LOGGING IN IBM ACC\n",
    "IBMQ.save_account(\"5ae112e77d4b1347061e63fb7ca749e7a37af2e6a5e69e9676647159479f824d948d66d032193d1840200fa870dafe3c236556fcf4a8737037858e12e2669e21\")"
   ]
  },
  {
   "cell_type": "code",
   "execution_count": 7,
   "id": "d1d8083c",
   "metadata": {},
   "outputs": [],
   "source": [
    "# Создадим схему телепортации для кластера Т-типа\n"
   ]
  },
  {
   "cell_type": "code",
   "execution_count": 2,
   "id": "1994f307",
   "metadata": {},
   "outputs": [
    {
     "data": {
      "text/plain": [
       "<qiskit.circuit.instructionset.InstructionSet at 0x2f67eaa5d80>"
      ]
     },
     "execution_count": 2,
     "metadata": {},
     "output_type": "execute_result"
    }
   ],
   "source": [
    "qreg_q = QuantumRegister(5, 'q')\n",
    "creg_c = ClassicalRegister(1, 'c')\n",
    "circuit = QuantumCircuit(qreg_q, creg_c)\n",
    "\n",
    "circuit.rx(pi/2, qreg_q[0])\n",
    "# circuit.barrier(qreg_q[0], qreg_q[1], qreg_q[2], qreg_q[3], qreg_q[4])\n",
    "circuit.h(qreg_q[2])\n",
    "circuit.h(qreg_q[4])\n",
    "circuit.cx(qreg_q[2], qreg_q[1])\n",
    "circuit.cx(qreg_q[4], qreg_q[3])\n",
    "circuit.h(qreg_q[1])\n",
    "circuit.cx(qreg_q[1], qreg_q[3])\n",
    "circuit.cx(qreg_q[0], qreg_q[1])\n",
    "circuit.h(qreg_q[0])\n",
    "# circuit.barrier(qreg_q[0], qreg_q[1], qreg_q[2], qreg_q[3], qreg_q[4])\n",
    "circuit.cz(qreg_q[0], qreg_q[4])\n",
    "circuit.cx(qreg_q[1], qreg_q[4])\n",
    "circuit.cz(qreg_q[2], qreg_q[4])\n",
    "circuit.cx(qreg_q[3], qreg_q[4])\n",
    "circuit.rx(-pi/2, qreg_q[4])\n",
    "circuit.measure(qreg_q[4], creg_c[0])"
   ]
  },
  {
   "cell_type": "code",
   "execution_count": 3,
   "id": "537b8008",
   "metadata": {},
   "outputs": [
    {
     "data": {
      "image/png": "[encoded data removed]",
      "text/plain": [
       "<Figure size 808.997x385.28 with 1 Axes>"
      ]
     },
     "execution_count": 3,
     "metadata": {},
     "output_type": "execute_result"
    }
   ],
   "source": [
    "circuit.draw('mpl',style='bw')"
   ]
  },
  {
   "cell_type": "code",
   "execution_count": null,
   "id": "e922586d",
   "metadata": {},
   "outputs": [],
   "source": [
    "# Исследуем ответ в идеальном случае - то есть на симуляторе "
   ]
  },
  {
   "cell_type": "code",
   "execution_count": 8,
   "id": "a14a9ecf",
   "metadata": {},
   "outputs": [],
   "source": [
    "provider = IBMQ.load_account()\n",
    "backend = provider.get_backend('ibmq_qasm_simulator')"
   ]
  },
  {
   "cell_type": "code",
   "execution_count": 9,
   "id": "8308ca64",
   "metadata": {},
   "outputs": [],
   "source": [
    "job = backend.run(circuit)"
   ]
  },
  {
   "cell_type": "code",
   "execution_count": 10,
   "id": "13722c7b",
   "metadata": {},
   "outputs": [],
   "source": [
    "retrieved_job = backend.retrieve_job(job.job_id())\n",
    "result = retrieved_job.result() "
   ]
  },
  {
   "cell_type": "code",
   "execution_count": 13,
   "id": "76fc1062",
   "metadata": {},
   "outputs": [
    {
     "data": {
      "image/png": "[encoded data removed]",
      "text/plain": [
       "<Figure size 504x360 with 1 Axes>"
      ]
     },
     "execution_count": 13,
     "metadata": {},
     "output_type": "execute_result"
    }
   ],
   "source": [
    "plot_histogram(result.get_counts())"
   ]
  },
  {
   "cell_type": "code",
   "execution_count": 14,
   "id": "78bcba66",
   "metadata": {},
   "outputs": [
    {
     "name": "stdout",
     "output_type": "stream",
     "text": [
      "{'0': 4000}\n"
     ]
    }
   ],
   "source": [
    "print(result.get_counts())"
   ]
  },
  {
   "cell_type": "code",
   "execution_count": 16,
   "id": "0f0a1ac2",
   "metadata": {},
   "outputs": [],
   "source": [
    "# Запустим теперь наш алгоритм в реальный квантовый компьютер"
   ]
  },
  {
   "cell_type": "code",
   "execution_count": 17,
   "id": "ba9ed528",
   "metadata": {},
   "outputs": [],
   "source": [
    "backend = provider.get_backend('ibmq_quito') "
   ]
  },
  {
   "cell_type": "code",
   "execution_count": 18,
   "id": "29f72e27",
   "metadata": {},
   "outputs": [],
   "source": [
    "optimized_circuit = qiskit.transpile(circuit, backend)"
   ]
  },
  {
   "cell_type": "code",
   "execution_count": 19,
   "id": "aca3ffac",
   "metadata": {},
   "outputs": [
    {
     "name": "stdout",
     "output_type": "stream",
     "text": [
      "{'0': 2769, '1': 1231}\n"
     ]
    }
   ],
   "source": [
    "# Запуск программы на реальном устройстве\n",
    "job = backend.run(optimized_circuit)\n",
    "retrieved_job = backend.retrieve_job(job.job_id())\n",
    "result = retrieved_job.result() \n",
    "print(result.get_counts()) "
   ]
  },
  {
   "cell_type": "code",
   "execution_count": 51,
   "id": "e8813972",
   "metadata": {},
   "outputs": [
    {
     "data": {
      "image/png": "[encoded data removed]",
      "text/plain": [
       "<Figure size 864x648 with 5 Axes>"
      ]
     },
     "execution_count": 51,
     "metadata": {},
     "output_type": "execute_result"
    }
   ],
   "source": [
    "qiskit.visualization.plot_error_map(backend)"
   ]
  },
  {
   "cell_type": "code",
   "execution_count": 20,
   "id": "e9bdfe6a",
   "metadata": {},
   "outputs": [
    {
     "data": {
      "image/png": "[encoded data removed]",
      "text/plain": [
       "<Figure size 504x360 with 1 Axes>"
      ]
     },
     "execution_count": 20,
     "metadata": {},
     "output_type": "execute_result"
    }
   ],
   "source": [
    "plot_histogram(result.get_counts()) "
   ]
  },
  {
   "cell_type": "code",
   "execution_count": null,
   "id": "1060edf3",
   "metadata": {},
   "outputs": [],
   "source": [
    "# Построим теперь модель с включенным шумом и исследуем ее поведение "
   ]
  },
  {
   "cell_type": "code",
   "execution_count": 4,
   "id": "600ce379",
   "metadata": {},
   "outputs": [],
   "source": [
    "# Параметры ошибки деполяризации\n",
    "# Вероятности ошибки\n",
    "prob_1gate = 0.001  # Однокубитный гейт\n",
    "prob_2gate = 0.01   # Двухкубитный гейт\n",
    "\n",
    "# Ошибки деполяризации\n",
    "error_1 = noise.depolarizing_error(prob_1gate, 1)\n",
    "error_2 = noise.depolarizing_error(prob_2gate, 2)"
   ]
  },
  {
   "cell_type": "code",
   "execution_count": 5,
   "id": "baccc289",
   "metadata": {},
   "outputs": [],
   "source": [
    "# Добавление ошибок в модель\n",
    "noise_model = noise.NoiseModel()\n",
    "noise_model.add_all_qubit_quantum_error(error_1, ['u1', 'u2', 'u3'])\n",
    "noise_model.add_all_qubit_quantum_error(error_2, ['cx'])"
   ]
  },
  {
   "cell_type": "code",
   "execution_count": 6,
   "id": "7b46591d",
   "metadata": {},
   "outputs": [],
   "source": [
    "# Get basis gates from noise model\n",
    "basis_gates = noise_model.basis_gates"
   ]
  },
  {
   "cell_type": "code",
   "execution_count": 7,
   "id": "b3962694",
   "metadata": {},
   "outputs": [
    {
     "name": "stdout",
     "output_type": "stream",
     "text": [
      "{'0': 3848, '1': 152}\n"
     ]
    },
    {
     "data": {
      "image/png": "[encoded data removed]",
      "text/plain": [
       "<Figure size 504x360 with 1 Axes>"
      ]
     },
     "execution_count": 7,
     "metadata": {},
     "output_type": "execute_result"
    }
   ],
   "source": [
    "# Симуляция с шумом\n",
    "result = execute(circuit, Aer.get_backend('qasm_simulator'),\n",
    "                 basis_gates=basis_gates,\n",
    "                 noise_model=noise_model,shots=4000).result()\n",
    "counts = result.get_counts(0)\n",
    "print(counts)\n",
    "plot_histogram(counts)"
   ]
  },
  {
   "cell_type": "code",
   "execution_count": 44,
   "id": "51e79002",
   "metadata": {},
   "outputs": [],
   "source": [
    "# Параметры ошибки амплитудного затухания (Amplitude damping)\n",
    "param_q0 = 0.05  # параметр затухания для кубита-0\n",
    "param_q1 = 0.1   # параметр затухания для кубита-1\n",
    "\n",
    "# Составляем ошибку ( действующую на двухкубитные операции)\n",
    "qerror_q0 = amplitude_damping_error(param_q0)\n",
    "qerror_q1 = amplitude_damping_error(param_q1)\n",
    "cnot_error = qerror_q1.tensor(qerror_q0)\n"
   ]
  },
  {
   "cell_type": "code",
   "execution_count": 45,
   "id": "0efbdd8f",
   "metadata": {},
   "outputs": [],
   "source": [
    "\n",
    "# Строим новую модель шума с ошибкой операции CNOT\n",
    "noise_model = NoiseModel()\n",
    "noise_model.add_all_qubit_quantum_error(cnot_error, 'cx')"
   ]
  },
  {
   "cell_type": "code",
   "execution_count": 46,
   "id": "c6d74c9a",
   "metadata": {},
   "outputs": [],
   "source": [
    "# Get basis gates from noise model\n",
    "basis_gates = noise_model.basis_gates"
   ]
  },
  {
   "cell_type": "code",
   "execution_count": 47,
   "id": "373369b6",
   "metadata": {},
   "outputs": [
    {
     "name": "stdout",
     "output_type": "stream",
     "text": [
      "{'0': 2992, '1': 1008}\n"
     ]
    },
    {
     "data": {
      "image/png": "[encoded data removed]",
      "text/plain": [
       "<Figure size 504x360 with 1 Axes>"
      ]
     },
     "execution_count": 47,
     "metadata": {},
     "output_type": "execute_result"
    }
   ],
   "source": [
    "# Симуляция с шумом\n",
    "result = execute(circuit, Aer.get_backend('qasm_simulator'),\n",
    "                 basis_gates=basis_gates,\n",
    "                 noise_model=noise_model, shots=4000).result()\n",
    "counts = result.get_counts(0)\n",
    "print(counts)\n",
    "plot_histogram(counts)"
   ]
  },
  {
   "cell_type": "code",
   "execution_count": 48,
   "id": "dcc7fa04",
   "metadata": {},
   "outputs": [
    {
     "data": {
      "text/plain": [
       "0.748"
      ]
     },
     "execution_count": 48,
     "metadata": {},
     "output_type": "execute_result"
    }
   ],
   "source": [
    "qi.state_fidelity(Counts_to_state_vec(counts), [1,0])"
   ]
  },
  {
   "cell_type": "code",
   "execution_count": 89,
   "id": "c0b70646",
   "metadata": {},
   "outputs": [],
   "source": [
    "# Параметры ошибки фазового затухания (Phase damping)\n",
    "param_g0 = 0.05  # параметр затухания для кубита-0\n",
    "param_g1 = 0.1   # параметр затухания для кубита-1\n",
    "\n",
    "# Составляем ошибку ( действующую на двухкубитные операции)\n",
    "qerror_g0 = phase_damping_error(param_g0)\n",
    "qerror_g1 = phase_damping_error(param_g1)\n",
    "cnot_error_phase = qerror_g1.tensor(qerror_g0)"
   ]
  },
  {
   "cell_type": "code",
   "execution_count": 90,
   "id": "914e45f1",
   "metadata": {},
   "outputs": [],
   "source": [
    "\n",
    "# Строим новую модель шума с ошибкой операции CNOT\n",
    "noise_model = NoiseModel()\n",
    "noise_model.add_all_qubit_quantum_error(cnot_error_phase, 'cx')"
   ]
  },
  {
   "cell_type": "code",
   "execution_count": 84,
   "id": "8d8e3874",
   "metadata": {},
   "outputs": [],
   "source": [
    "# Get basis gates from noise model\n",
    "basis_gates = noise_model.basis_gates"
   ]
  },
  {
   "cell_type": "code",
   "execution_count": 91,
   "id": "68a1fe5f",
   "metadata": {
    "scrolled": true
   },
   "outputs": [
    {
     "name": "stdout",
     "output_type": "stream",
     "text": [
      "{'0': 3382, '1': 618}\n"
     ]
    },
    {
     "data": {
      "image/png": "[encoded data removed]",
      "text/plain": [
       "<Figure size 504x360 with 1 Axes>"
      ]
     },
     "execution_count": 91,
     "metadata": {},
     "output_type": "execute_result"
    }
   ],
   "source": [
    "# Симуляция с шумом\n",
    "result = execute(circuit, Aer.get_backend('qasm_simulator'),\n",
    "                 basis_gates=basis_gates,\n",
    "                 noise_model=noise_model, shots=4000).result()\n",
    "counts = result.get_counts(0)\n",
    "print(counts)\n",
    "plot_histogram(counts)"
   ]
  },
  {
   "cell_type": "code",
   "execution_count": 92,
   "id": "424a6c54",
   "metadata": {},
   "outputs": [
    {
     "data": {
      "text/plain": [
       "0.8455000000000001"
      ]
     },
     "execution_count": 92,
     "metadata": {},
     "output_type": "execute_result"
    }
   ],
   "source": [
    "qi.state_fidelity(Counts_to_state_vec(counts), [1,0])"
   ]
  },
  {
   "cell_type": "code",
   "execution_count": null,
   "id": "ea331ffc",
   "metadata": {},
   "outputs": [],
   "source": []
  },
  {
   "cell_type": "code",
   "execution_count": 17,
   "id": "994e8a4e",
   "metadata": {},
   "outputs": [],
   "source": [
    "def Counts_to_state_vec (counts) :\n",
    "    state = [np.sqrt(counts['0']*1) , np.sqrt(counts['1']*1)]\n",
    "\n",
    "    state = state/np.sqrt(counts['0']+counts['1'])\n",
    "    state = state.tolist()\n",
    "    return state"
   ]
  },
  {
   "cell_type": "code",
   "execution_count": 53,
   "id": "8296206f",
   "metadata": {},
   "outputs": [
    {
     "data": {
      "image/png": "[encoded data removed]",
      "text/plain": [
       "<Figure size 432x288 with 1 Axes>"
      ]
     },
     "metadata": {
      "needs_background": "light"
     },
     "output_type": "display_data"
    }
   ],
   "source": [
    "depol_fidality = []\n",
    "for i in range(1,100,10) :\n",
    "    prob_1gate = 0.001*i  # Однокубитный гейт\n",
    "    prob_2gate = 0.01*i   # Двухкубитный гейт\n",
    "    # Ошибки деполяризации\n",
    "    error_1 = noise.depolarizing_error(prob_1gate, 1)\n",
    "    error_2 = noise.depolarizing_error(prob_2gate, 2)\n",
    "    # Добавление ошибок в модель\n",
    "    noise_model = noise.NoiseModel()\n",
    "    noise_model.add_all_qubit_quantum_error(error_1, ['u1', 'u2', 'u3'])\n",
    "    noise_model.add_all_qubit_quantum_error(error_2, ['cx'])\n",
    "    # Симуляция с шумом\n",
    "    result = execute(circuit, Aer.get_backend('qasm_simulator'),\n",
    "                     basis_gates=basis_gates,\n",
    "                     noise_model=noise_model,shots=4000).result()\n",
    "    counts = result.get_counts(0)\n",
    "    depol_fidality.append(qi.state_fidelity(Counts_to_state_vec(counts), [1,0]))\n",
    "fig, ax = plt.subplots()  # Create a figure containing a single axes.\n",
    "ax.plot([i for i in range(len(depol_fidality))], depol_fidality);  # Plot some data on the axes.    "
   ]
  },
  {
   "cell_type": "code",
   "execution_count": 57,
   "id": "da528d1a",
   "metadata": {},
   "outputs": [
    {
     "data": {
      "image/png": "[encoded data removed]",
      "text/plain": [
       "<Figure size 432x288 with 1 Axes>"
      ]
     },
     "metadata": {
      "needs_background": "light"
     },
     "output_type": "display_data"
    }
   ],
   "source": [
    "amp_damp_fidality = []\n",
    "for i in range(1,100,10) :\n",
    "    # Параметры ошибки амплитудного затухания (Amplitude damping)\n",
    "    param_q0 = 0.005*i  # параметр затухания для кубита-0\n",
    "    param_q1 = 0.01*i   # параметр затухания для кубита-1\n",
    "\n",
    "    # Составляем ошибку ( действующую на двухкубитные операции)\n",
    "    qerror_q0 = amplitude_damping_error(param_q0)\n",
    "    qerror_q1 = amplitude_damping_error(param_q1)\n",
    "    cnot_error = qerror_q1.tensor(qerror_q0)\n",
    "    \n",
    "    # Строим новую модель шума с ошибкой операции CNOT\n",
    "    noise_model = NoiseModel()\n",
    "    noise_model.add_all_qubit_quantum_error(cnot_error, 'cx')\n",
    "    # Get basis gates from noise model\n",
    "    basis_gates = noise_model.basis_gates\n",
    "    # Симуляция с шумом\n",
    "    result = execute(circuit, Aer.get_backend('qasm_simulator'),\n",
    "                     basis_gates=basis_gates,\n",
    "                     noise_model=noise_model,shots=4000).result()\n",
    "    counts = result.get_counts(0)\n",
    "    amp_damp_fidality.append(qi.state_fidelity(Counts_to_state_vec(counts), [1,0]))\n",
    "fig, ax = plt.subplots()  # Create a figure containing a single axes.\n",
    "ax.plot([i for i in range(len(amp_damp_fidality))], amp_damp_fidality);  # Plot some data on the axes.    "
   ]
  },
  {
   "cell_type": "code",
   "execution_count": 96,
   "id": "b278e90d",
   "metadata": {},
   "outputs": [
    {
     "data": {
      "image/png": "[encoded data removed]",
      "text/plain": [
       "<Figure size 432x288 with 1 Axes>"
      ]
     },
     "metadata": {
      "needs_background": "light"
     },
     "output_type": "display_data"
    }
   ],
   "source": [
    "phase_damp_fidality = []\n",
    "for i in range(1,100,10) :\n",
    "    # Параметры ошибки фазового затухания (Phase damping)\n",
    "    param_g0 = 0.005*i  # параметр затухания для кубита-0\n",
    "    param_g1 = 0.01*i  # параметр затухания для кубита-1\n",
    "\n",
    "    # Составляем ошибку ( действующую на двухкубитные операции)\n",
    "    qerror_g0 = phase_damping_error(param_g0)\n",
    "    qerror_g1 = phase_damping_error(param_g1)\n",
    "    cnot_error_phase = qerror_g1.tensor(qerror_g0)\n",
    "    \n",
    "    # Строим новую модель шума с ошибкой операции CNOT\n",
    "    noise_model = NoiseModel()\n",
    "    noise_model.add_all_qubit_quantum_error(cnot_error_phase, 'cx')\n",
    "    # Get basis gates from noise model\n",
    "    basis_gates = noise_model.basis_gates\n",
    "    # Симуляция с шумом\n",
    "    result = execute(circuit, Aer.get_backend('qasm_simulator'),\n",
    "                     basis_gates=basis_gates,\n",
    "                     noise_model=noise_model,shots=4000).result()\n",
    "    counts = result.get_counts(0)\n",
    "    phase_damp_fidality.append(qi.state_fidelity(Counts_to_state_vec(counts), [1,0]))\n",
    "fig, ax = plt.subplots()  # Create a figure containing a single axes.\n",
    "ax.plot([i for i in range(len(phase_damp_fidality))], phase_damp_fidality);  # Plot some data on the axes.    "
   ]
  }
 ],
 "metadata": {
  "kernelspec": {
   "display_name": "Python 3 (ipykernel)",
   "language": "python",
   "name": "python3"
  },
  "language_info": {
   "codemirror_mode": {
    "name": "ipython",
    "version": 3
   },
   "file_extension": ".py",
   "mimetype": "text/x-python",
   "name": "python",
   "nbconvert_exporter": "python",
   "pygments_lexer": "ipython3",
   "version": "3.10.2"
  }
 },
 "nbformat": 4,
 "nbformat_minor": 5
}
