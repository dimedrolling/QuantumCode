{
 "cells": [
  {
   "cell_type": "code",
   "execution_count": 19,
   "id": "e057eb05",
   "metadata": {},
   "outputs": [],
   "source": [
    "import qiskit\n",
    "# %matplotlib notebook\n",
    "%matplotlib inline\n",
    "\n",
    "from qiskit import transpile, QuantumCircuit, QuantumRegister, ClassicalRegister\n",
    "\n",
    "from qiskit import IBMQ\n",
    "from qiskit import Aer,BasicAer, execute, assemble\n",
    "from qiskit.providers.aer import AerSimulator\n",
    "import qiskit.providers.aer.noise as noise\n",
    "from qiskit.providers.aer.noise import NoiseModel, amplitude_damping_error,phase_damping_error\n",
    "\n",
    "\n",
    "# Needed for functions\n",
    "import time\n",
    "from copy import deepcopy\n",
    "import numpy as np\n",
    "from numpy import pi\n",
    "\n",
    "import matplotlib as mpl\n",
    "# mpl.use('TkAgg')\n",
    "import matplotlib.pyplot as plt\n",
    "\n",
    "from qiskit.tools.visualization import plot_histogram, plot_state_city\n",
    "from qiskit.visualization import plot_bloch_multivector\n",
    "\n",
    "import qiskit.quantum_info as qi\n",
    "from qiskit.quantum_info import state_fidelity\n",
    "from qiskit.quantum_info import partial_trace, Statevector\n",
    "\n",
    "# Tomography functions\n",
    "from qiskit.ignis.verification.tomography import state_tomography_circuits, StateTomographyFitter\n",
    "from qiskit.ignis.verification.tomography import process_tomography_circuits, ProcessTomographyFitter\n",
    "from qiskit.ignis.verification.tomography import gateset_tomography_circuits, GatesetTomographyFitter\n",
    "import qiskit.ignis.mitigation.measurement as mc\n",
    "\n",
    "# Auxiliary methods\n",
    "from qiskit.quantum_info import Choi, Kraus\n",
    "from qiskit.extensions import HGate, XGate"
   ]
  },
  {
   "cell_type": "code",
   "execution_count": 107,
   "id": "b99ee78d",
   "metadata": {},
   "outputs": [],
   "source": [
    "Circits = []\n",
    "Ideal_states = []\n",
    "\n",
    "\n",
    "for i in range(0,5):\n",
    "    # Create the expected statevector\n",
    "    q2 = QuantumRegister(2)\n",
    "    idcr = QuantumCircuit(q2)\n",
    "    idcr.x(q2[0])\n",
    "    for k in range(0,i+1):\n",
    "        idcr.cx(q2[k%2], q2[1-k%2])\n",
    "\n",
    "    Ideal_states.append(qi.Statevector.from_instruction(idcr))\n",
    "    \n",
    "    # Create the actual circuit \n",
    "    q2 = QuantumRegister(3)\n",
    "    circ = QuantumCircuit(q2)\n",
    "    circ.x(q2[0])\n",
    "    for k in range(0,i+1):\n",
    "        circ.cx(q2[k%2], q2[1-k%2])\n",
    "    \n",
    "    Circits.append(circ)\n",
    "    \n",
    "# for i in range(0,3):\n",
    "#     # Create the expected statevector\n",
    "#     q2 = QuantumRegister(3)\n",
    "#     idcr = QuantumCircuit(q2)\n",
    "#     # idcr.h(q2[0])\n",
    "#     for k in range(0,i+1):\n",
    "#         idcr.cx(q2[k%2+1], q2[1-k%2+1])\n",
    "\n",
    "#     Ideal_states.append(qi.Statevector.from_instruction(idcr))\n",
    "    \n",
    "#     # Create the actual circuit \n",
    "#     q2 = QuantumRegister(3)\n",
    "#     circ = QuantumCircuit(q2)\n",
    "#     # circ.h(q2[0])\n",
    "#     for k in range(0,i+1):\n",
    "#         circ.cx(q2[k%2+1], q2[1-k%2+1])\n",
    "    \n",
    "#     Circits.append(circ)    \n",
    "    \n"
   ]
  },
  {
   "cell_type": "code",
   "execution_count": 29,
   "id": "61334931",
   "metadata": {},
   "outputs": [
    {
     "name": "stdout",
     "output_type": "stream",
     "text": [
      "Statevector([0.+0.j, 1.+0.j, 0.+0.j, 0.+0.j],\n",
      "            dims=(2, 2))\n"
     ]
    }
   ],
   "source": [
    "Ideal_states[4]"
   ]
  },
  {
   "cell_type": "code",
   "execution_count": 108,
   "id": "0dea2b79",
   "metadata": {},
   "outputs": [],
   "source": [
    "results = []"
   ]
  },
  {
   "cell_type": "code",
   "execution_count": 109,
   "id": "55e4b2eb",
   "metadata": {},
   "outputs": [
    {
     "name": "stderr",
     "output_type": "stream",
     "text": [
      "ibmqfactory.load_account:WARNING:2022-04-12 13:23:00,995: Credentials are already in use. The existing account in the session will be replaced.\n"
     ]
    }
   ],
   "source": [
    "provider = IBMQ.load_account()\n",
    "backend = provider.get_backend('ibmq_lima')"
   ]
  },
  {
   "cell_type": "code",
   "execution_count": 110,
   "id": "4d066a11",
   "metadata": {},
   "outputs": [
    {
     "data": {
      "image/png": "[encoded data removed]",
      "text/plain": [
       "<Figure size 864x648 with 5 Axes>"
      ]
     },
     "execution_count": 110,
     "metadata": {},
     "output_type": "execute_result"
    }
   ],
   "source": [
    "qiskit.visualization.plot_error_map(backend)"
   ]
  },
  {
   "cell_type": "code",
   "execution_count": 111,
   "id": "77c6e4da",
   "metadata": {},
   "outputs": [
    {
     "name": "stdout",
     "output_type": "stream",
     "text": [
      "For Time taken: 275.355836391449\n"
     ]
    }
   ],
   "source": [
    "Qst_circ = []\n",
    "Tomo_fitter_circ = []\n",
    "Meas_fitter = []\n",
    "Correct_tomo_results=[]\n",
    "# Generate circuits and run on simulator\n",
    "t = time.time()\n",
    "\n",
    "\n",
    "    \n",
    "meas_calibs, state_labels = mc.complete_meas_cal(qubit_list=[0,1])\n",
    "\n",
    "# meas_calibs1, state_labels1 = mc.complete_meas_cal(qubit_list=[0,1])\n",
    "\n",
    "\n",
    "\n",
    "# Generate the state tomography circuits.\n",
    "for circ in  Circits:\n",
    "    Qst_circ.append( state_tomography_circuits(circ, [0, 1]) )\n",
    "    \n",
    "# delete from here    \n",
    "qlist = []\n",
    "for  qst_circ in  Qst_circ:\n",
    "    for qcir in qst_circ:\n",
    "        qlist.append(qcir)\n",
    "\n",
    "job_tomo = qiskit.execute(qlist, backend=backend, shots=4000)\n",
    "results.append(job_tomo)\n",
    "job_cal = qiskit.execute(meas_calibs, backend=backend, shots=4000)\n",
    "results.append(job_cal)\n",
    "\n",
    "for  i in range(0, len(Qst_circ)):\n",
    "    test = qiskit.result.result.Result(backend_name=job_tomo.result().backend_name , backend_version =job_tomo.result().backend_version \\\n",
    "                                   , qobj_id=job_tomo.result().qobj_id, job_id=job_tomo.result().job_id\\\n",
    "                                   , success=job_tomo.result().success, results=job_tomo.result().results[i*len(Qst_circ[0]):(i+1)*len(Qst_circ[0])] )\n",
    "    Tomo_fitter_circ.append( StateTomographyFitter(test, Qst_circ[i]) )\n",
    "    Meas_fitter.append(mc.CompleteMeasFitter(job_cal.result(),state_labels))\n",
    "    Correct_tomo_results.append(Meas_fitter[len(Meas_fitter)-1].filter.apply(test, method='least_squares'))\n",
    "print('For Time taken:', time.time() - t)\n",
    "\n",
    "    \n",
    "    "
   ]
  },
  {
   "cell_type": "code",
   "execution_count": 112,
   "id": "b8ca0c18",
   "metadata": {},
   "outputs": [
    {
     "name": "stdout",
     "output_type": "stream",
     "text": [
      "State fidelity (no correction): F = 0.91321\n",
      "State fidelity (no correction): F = 0.93767\n",
      "State fidelity (no correction): F = 0.92466\n",
      "State fidelity (no correction): F = 0.88577\n",
      "State fidelity (no correction): F = 0.93282\n"
     ]
    }
   ],
   "source": [
    "Rho_circ = []\n",
    "\n",
    "for i in range (0,len(Tomo_fitter_circ)) :\n",
    "    # Perform the tomography fit\n",
    "    # which outputs a density matrix\n",
    "    rho_circ = Tomo_fitter_circ[i].fit(method='lstsq')\n",
    "    Rho_circ.append(rho_circ)\n",
    "    F_circ = qi.state_fidelity(rho_circ,Ideal_states[i])\n",
    "    print('State fidelity (no correction): F = {:.5f}'.format(F_circ))"
   ]
  },
  {
   "cell_type": "code",
   "execution_count": 113,
   "id": "4ecdbea5",
   "metadata": {},
   "outputs": [
    {
     "name": "stdout",
     "output_type": "stream",
     "text": [
      "State fidelity (w/ correction): F = 0.98971\n",
      "State fidelity (w/ correction): F = 0.98737\n",
      "State fidelity (w/ correction): F = 0.97845\n",
      "State fidelity (w/ correction): F = 0.96237\n",
      "State fidelity (w/ correction): F = 0.97258\n"
     ]
    }
   ],
   "source": [
    "Rho_fit_circ_mit = []\n",
    "\n",
    "for i in range (0,len(Tomo_fitter_circ)): #correct data\n",
    "    tomo_circ_mit = StateTomographyFitter(Correct_tomo_results[i], Qst_circ[i])\n",
    "    rho_fit_circ_mit = tomo_circ_mit.fit(method='lstsq')\n",
    "    Rho_fit_circ_mit.append(rho_fit_circ_mit)\n",
    "    F_circ_mit = qi.state_fidelity(rho_fit_circ_mit, Ideal_states[i])\n",
    "    print('State fidelity (w/ correction): F = {:.5f}'.format(F_circ_mit))"
   ]
  },
  {
   "cell_type": "code",
   "execution_count": null,
   "id": "81a466af",
   "metadata": {},
   "outputs": [],
   "source": []
  },
  {
   "cell_type": "code",
   "execution_count": 116,
   "id": "5d29d838",
   "metadata": {},
   "outputs": [
    {
     "data": {
      "text/latex": [
       "$$\n",
       "\\rho_{AB} = \n",
       "\\begin{bmatrix}\n",
       "0.0104 & 0.00113 + 0.00443i & -0.00205 - 0.0257i & -0.00399 - 0.00548i  \\\\\n",
       " 0.00113 - 0.00443i & 0.00659 & 0.00948 + 0.03767i & -0.00326 + 0.00114i  \\\\\n",
       " -0.00205 + 0.0257i & 0.00948 - 0.03767i & 0.97845 & 0.01738 - 0.00901i  \\\\\n",
       " -0.00399 + 0.00548i & -0.00326 - 0.00114i & 0.01738 + 0.00901i & 0.00457  \\\\\n",
       " \\end{bmatrix}\n",
       "$$"
      ],
      "text/plain": [
       "<IPython.core.display.Latex object>"
      ]
     },
     "execution_count": 116,
     "metadata": {},
     "output_type": "execute_result"
    }
   ],
   "source": [
    "rho = qi.DensityMatrix(Rho_fit_circ_mit[2])\n",
    "rho.draw('latex', prefix='\\\\rho_{AB} = ')"
   ]
  },
  {
   "cell_type": "code",
   "execution_count": 1,
   "id": "bb42eeb7",
   "metadata": {},
   "outputs": [
    {
     "ename": "NameError",
     "evalue": "name 'qi' is not defined",
     "output_type": "error",
     "traceback": [
      "\u001b[1;31m---------------------------------------------------------------------------\u001b[0m",
      "\u001b[1;31mNameError\u001b[0m                                 Traceback (most recent call last)",
      "Input \u001b[1;32mIn [1]\u001b[0m, in \u001b[0;36m<cell line: 1>\u001b[1;34m()\u001b[0m\n\u001b[1;32m----> 1\u001b[0m rho \u001b[38;5;241m=\u001b[39m \u001b[43mqi\u001b[49m\u001b[38;5;241m.\u001b[39mDensityMatrix(Rho_fit_circ_mit[\u001b[38;5;241m5\u001b[39m])\n\u001b[0;32m      2\u001b[0m plot_bloch_multivector(rho\u001b[38;5;241m.\u001b[39mdata)\n",
      "\u001b[1;31mNameError\u001b[0m: name 'qi' is not defined"
     ]
    }
   ],
   "source": [
    "rho = qi.DensityMatrix(Rho_fit_circ_mit[4])\n",
    "plot_bloch_multivector(rho.data)"
   ]
  },
  {
   "cell_type": "code",
   "execution_count": 35,
   "id": "d3eda3fd",
   "metadata": {},
   "outputs": [
    {
     "name": "stdout",
     "output_type": "stream",
     "text": [
      "2022-04-11 23:13:02.653601\n"
     ]
    }
   ],
   "source": [
    "import datetime\n",
    "\n",
    "timestr = time.strftime(\"%Y%m%d-%H%M%S\")\n",
    "print(timestr)\n",
    "timestr=timestr+'.txt'\n",
    "\n",
    "with open(timestr, 'w') as f:\n",
    "    details = results[0].result().to_dict()\n",
    "    for key, value in details.items(): \n",
    "        f.write('%s:%s\\n' % (key, value))\n",
    "    details = results[1].result().to_dict()\n",
    "    for key, value in details.items(): \n",
    "        f.write('%s:%s\\n' % (key, value))\n",
    "      "
   ]
  },
  {
   "cell_type": "code",
   "execution_count": null,
   "id": "ea462822",
   "metadata": {},
   "outputs": [],
   "source": []
  },
  {
   "cell_type": "code",
   "execution_count": 21,
   "id": "2ceafe43",
   "metadata": {},
   "outputs": [],
   "source": [
    "\n",
    "sim_limo = AerSimulator.from_backend(backend)\n"
   ]
  },
  {
   "cell_type": "code",
   "execution_count": 35,
   "id": "87f94f63",
   "metadata": {},
   "outputs": [
    {
     "name": "stdout",
     "output_type": "stream",
     "text": [
      "For Time taken: 4.4441819190979\n"
     ]
    }
   ],
   "source": [
    "Qst_circ = []\n",
    "Tomo_fitter_circ = []\n",
    "Meas_fitter = []\n",
    "Correct_tomo_results=[]\n",
    "# Generate circuits and run on simulator\n",
    "t = time.time()\n",
    "\n",
    "\n",
    "JOB = []\n",
    "    \n",
    "meas_calibs, state_labels = mc.complete_meas_cal(qubit_list=[0,1])\n",
    "\n",
    "# meas_calibs1, state_labels1 = mc.complete_meas_cal(qubit_list=[0,1])\n",
    "\n",
    "\n",
    "\n",
    "# Generate the state tomography circuits.\n",
    "for circ in  Circits:\n",
    "    Qst_circ.append( state_tomography_circuits(circ, [0,1]) )\n",
    "    \n",
    "job_cal = qiskit.execute(meas_calibs, backend=sim_limo, shots=4000)\n",
    "for  qst_circ in  Qst_circ:\n",
    "    # Execute\n",
    "    job_tomo = qiskit.execute(qst_circ, backend=sim_limo, shots=4000)\n",
    "    JOB.append(job_tomo)\n",
    "    # Fit result\n",
    "    Tomo_fitter_circ.append(StateTomographyFitter(job_tomo.result(), qst_circ))\n",
    "    \n",
    "    Meas_fitter.append(mc.CompleteMeasFitter(job_cal.result(),state_labels))\n",
    "    \n",
    "    Correct_tomo_results.append(Meas_fitter[len(Meas_fitter)-1].filter.apply(job_tomo.result(), method='least_squares'))\n",
    "print('For Time taken:', time.time() - t)\n",
    "    \n",
    "    "
   ]
  },
  {
   "cell_type": "code",
   "execution_count": 101,
   "id": "81ef232e",
   "metadata": {},
   "outputs": [
    {
     "name": "stdout",
     "output_type": "stream",
     "text": [
      "For Time taken: 4.117482662200928\n"
     ]
    }
   ],
   "source": [
    "\n",
    "Qst_circ = []\n",
    "Tomo_fitter_circ = []\n",
    "Meas_fitter = []\n",
    "Correct_tomo_results=[]\n",
    "# Generate circuits and run on simulator\n",
    "t = time.time()\n",
    "\n",
    "\n",
    "JOB1 = []\n",
    "    \n",
    "meas_calibs, state_labels = mc.complete_meas_cal(qubit_list=[0,1])\n",
    "\n",
    "# Generate the state tomography circuits.\n",
    "for circ in  Circits:\n",
    "    Qst_circ.append( state_tomography_circuits(circ, [0,1]) )\n",
    "\n",
    "# delete from here    \n",
    "qlist = []\n",
    "for  qst_circ in  Qst_circ:\n",
    "    for qcir in qst_circ:\n",
    "        qlist.append(qcir)\n",
    "\n",
    "        \n",
    "job_tomo = qiskit.execute(qlist, backend=sim_limo, shots=4000)\n",
    "\n",
    "job_cal = qiskit.execute(meas_calibs, backend=sim_limo, shots=4000)\n",
    "\n",
    "\n",
    "for  i in range(0, len(Qst_circ)):\n",
    "    test = qiskit.result.result.Result(backend_name=job_tomo.result().backend_name , backend_version =job_tomo.result().backend_version \\\n",
    "                                   , qobj_id=job_tomo.result().qobj_id, job_id=job_tomo.result().job_id\\\n",
    "                                   , success=job_tomo.result().success, results=job_tomo.result().results[i*len(Qst_circ[0]):(i+1)*len(Qst_circ[0])] )\n",
    "    Tomo_fitter_circ.append( StateTomographyFitter(test, qlist[i:i+len(Qst_circ[0])]) )\n",
    "    JOB1.append(test)\n",
    "    Meas_fitter.append(mc.CompleteMeasFitter(job_cal.result(),state_labels))\n",
    "    Correct_tomo_results.append(Meas_fitter[len(Meas_fitter)-1].filter.apply(test, method='least_squares'))\n",
    "print('For Time taken:', time.time() - t)"
   ]
  },
  {
   "cell_type": "code",
   "execution_count": 102,
   "id": "54cc2cc5",
   "metadata": {},
   "outputs": [
    {
     "name": "stdout",
     "output_type": "stream",
     "text": [
      "State fidelity (no correction): F = 0.94061\n",
      "State fidelity (no correction): F = 0.95343\n",
      "State fidelity (no correction): F = 0.94834\n",
      "State fidelity (no correction): F = 0.91778\n",
      "State fidelity (no correction): F = 0.92766\n"
     ]
    }
   ],
   "source": [
    "Rho_circ = []\n",
    "\n",
    "for i in range (0,len(Tomo_fitter_circ)) :\n",
    "    # Perform the tomography fit\n",
    "    # which outputs a density matrix\n",
    "    rho_circ = Tomo_fitter_circ[i].fit(method='lstsq')\n",
    "    Rho_circ.append(rho_circ)\n",
    "    F_circ = qi.state_fidelity(rho_circ,Ideal_states[i])\n",
    "    print('State fidelity (no correction): F = {:.5f}'.format(F_circ))"
   ]
  },
  {
   "cell_type": "code",
   "execution_count": null,
   "id": "d310ad98",
   "metadata": {},
   "outputs": [],
   "source": []
  },
  {
   "cell_type": "code",
   "execution_count": null,
   "id": "2ae09152",
   "metadata": {},
   "outputs": [],
   "source": []
  }
 ],
 "metadata": {
  "kernelspec": {
   "display_name": "Python 3 (ipykernel)",
   "language": "python",
   "name": "python3"
  },
  "language_info": {
   "codemirror_mode": {
    "name": "ipython",
    "version": 3
   },
   "file_extension": ".py",
   "mimetype": "text/x-python",
   "name": "python",
   "nbconvert_exporter": "python",
   "pygments_lexer": "ipython3",
   "version": "3.10.2"
  }
 },
 "nbformat": 4,
 "nbformat_minor": 5
}
