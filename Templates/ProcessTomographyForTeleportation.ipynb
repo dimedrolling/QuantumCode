{
 "cells": [
  {
   "cell_type": "code",
   "execution_count": 8,
   "id": "f270ea94",
   "metadata": {},
   "outputs": [],
   "source": [
    "import qiskit\n",
    "\n",
    "from qiskit import transpile, QuantumCircuit, QuantumRegister, ClassicalRegister\n",
    "\n",
    "\n",
    "\n",
    "from qiskit import IBMQ\n",
    "from qiskit import Aer,BasicAer, execute, assemble\n",
    "from qiskit.providers.aer import AerSimulator\n",
    "\n",
    "import qiskit.providers.aer.noise as noise\n",
    "from qiskit.providers.aer.noise import NoiseModel, amplitude_damping_error,phase_damping_error\n",
    "\n",
    "\n",
    "\n",
    "# Needed for functions\n",
    "import time\n",
    "from copy import deepcopy\n",
    "import numpy as np\n",
    "from numpy import pi\n",
    "\n",
    "import matplotlib as mpl\n",
    "import matplotlib.pyplot as plt\n",
    "\n",
    "from qiskit.tools.visualization import plot_histogram, plot_state_city\n",
    "from qiskit.visualization import plot_bloch_multivector\n",
    "\n",
    "import qiskit.quantum_info as qi\n",
    "from qiskit.quantum_info import state_fidelity\n",
    "from qiskit.quantum_info import partial_trace, Statevector\n",
    "\n",
    "# Tomography functions\n",
    "from qiskit.ignis.verification.tomography import state_tomography_circuits, StateTomographyFitter\n",
    "from qiskit.ignis.verification.tomography import process_tomography_circuits, ProcessTomographyFitter\n",
    "from qiskit.ignis.verification.tomography import gateset_tomography_circuits, GatesetTomographyFitter\n",
    "import qiskit.ignis.mitigation.measurement as mc"
   ]
  },
  {
   "cell_type": "code",
   "execution_count": 2,
   "id": "a267a142",
   "metadata": {},
   "outputs": [],
   "source": [
    "### T- CLUSTER\n"
   ]
  },
  {
   "cell_type": "code",
   "execution_count": 3,
   "id": "28520e19",
   "metadata": {},
   "outputs": [
    {
     "data": {
      "text/plain": [
       "<qiskit.circuit.instructionset.InstructionSet at 0x2247bb9f2c0>"
      ]
     },
     "execution_count": 3,
     "metadata": {},
     "output_type": "execute_result"
    }
   ],
   "source": [
    "qreg_q = QuantumRegister(5, 'q')\n",
    "circuit = QuantumCircuit(qreg_q)\n",
    "\n",
    "circuit.rx(pi/2, qreg_q[0])\n",
    "# circuit.barrier(qreg_q[0], qreg_q[1], qreg_q[2], qreg_q[3], qreg_q[4])\n",
    "circuit.h(qreg_q[2])\n",
    "circuit.h(qreg_q[4])\n",
    "circuit.cx(qreg_q[2], qreg_q[1])\n",
    "circuit.cx(qreg_q[4], qreg_q[3])\n",
    "circuit.h(qreg_q[1])\n",
    "circuit.cx(qreg_q[1], qreg_q[3])\n",
    "circuit.cx(qreg_q[0], qreg_q[1])\n",
    "circuit.h(qreg_q[0])\n",
    "# circuit.barrier(qreg_q[0], qreg_q[1], qreg_q[2], qreg_q[3], qreg_q[4])\n",
    "circuit.cz(qreg_q[0], qreg_q[4])\n",
    "circuit.cx(qreg_q[1], qreg_q[4])\n",
    "circuit.cz(qreg_q[2], qreg_q[4])\n",
    "circuit.cx(qreg_q[3], qreg_q[4])\n",
    "circuit.rx(-pi/2, qreg_q[4])"
   ]
  },
  {
   "cell_type": "code",
   "execution_count": 4,
   "id": "542b0031",
   "metadata": {},
   "outputs": [
    {
     "data": {
      "image/png": "[encoded data removed]",
      "text/plain": [
       "<Figure size 748.797x325.08 with 1 Axes>"
      ]
     },
     "execution_count": 4,
     "metadata": {},
     "output_type": "execute_result"
    }
   ],
   "source": [
    "circuit.draw('mpl',style='bw')"
   ]
  },
  {
   "cell_type": "code",
   "execution_count": 5,
   "id": "5447219c",
   "metadata": {},
   "outputs": [],
   "source": [
    "provider = IBMQ.load_account()\n",
    "backend = provider.get_backend('ibmq_qasm_simulator')"
   ]
  },
  {
   "cell_type": "code",
   "execution_count": 6,
   "id": "b77906d1",
   "metadata": {},
   "outputs": [
    {
     "data": {
      "text/plain": [
       "{(('Zp',), ('X',)): {'0': 2007, '1': 1993},\n",
       " (('Zp',), ('Y',)): {'0': 1989, '1': 2011},\n",
       " (('Zp',), ('Z',)): {'0': 4000},\n",
       " (('Zm',), ('X',)): {'0': 2022, '1': 1978},\n",
       " (('Zm',), ('Y',)): {'0': 1992, '1': 2008},\n",
       " (('Zm',), ('Z',)): {'1': 4000},\n",
       " (('Xp',), ('X',)): {'0': 4000},\n",
       " (('Xp',), ('Y',)): {'0': 1991, '1': 2009},\n",
       " (('Xp',), ('Z',)): {'0': 2015, '1': 1985},\n",
       " (('Yp',), ('X',)): {'0': 2005, '1': 1995},\n",
       " (('Yp',), ('Y',)): {'0': 4000},\n",
       " (('Yp',), ('Z',)): {'0': 1958, '1': 2042}}"
      ]
     },
     "execution_count": 6,
     "metadata": {},
     "output_type": "execute_result"
    }
   ],
   "source": [
    "qpt_circs = process_tomography_circuits(circuit, qreg_q[4], prepared_qubits=qreg_q[0])\n",
    "job = qiskit.execute(qpt_circs, backend, shots=4000)\n",
    "\n",
    "# Extract tomography data so that counts are indexed by measurement configuration\n",
    "qpt_tomo = ProcessTomographyFitter(job.result(), qpt_circs)\n",
    "qpt_tomo.data"
   ]
  },
  {
   "cell_type": "code",
   "execution_count": 7,
   "id": "749f01db",
   "metadata": {},
   "outputs": [
    {
     "name": "stdout",
     "output_type": "stream",
     "text": [
      "Fit time: 0.002792835235595703\n",
      "Average gate fidelity: F = 0.99716\n"
     ]
    }
   ],
   "source": [
    "# Tomographic reconstruction\n",
    "\n",
    "t = time.time()\n",
    "choi_fit = qpt_tomo.fit(method='lstsq')\n",
    "print('Fit time:', time.time() - t)\n",
    "print('Average gate fidelity: F = {:.5f}'.format(qi.average_gate_fidelity(choi_fit)))"
   ]
  },
  {
   "cell_type": "code",
   "execution_count": 8,
   "id": "3b23832f",
   "metadata": {},
   "outputs": [
    {
     "data": {
      "text/latex": [
       "$$\n",
       "\n",
       "\\begin{bmatrix}\n",
       "0.9974 & -0.00007 - 0.00177i & 0.00435 - 0.00804i & 0.99406 - 0.0025i  \\\\\n",
       " -0.00007 + 0.00177i & 0.0031 & -0.00237 - 0.0007i & -0.00194 + 0.00591i  \\\\\n",
       " 0.00435 + 0.00804i & -0.00237 + 0.0007i & 0.00208 & 0.00486 + 0.00439i  \\\\\n",
       " 0.99406 + 0.0025i & -0.00194 - 0.00591i & 0.00486 - 0.00439i & 0.99742  \\\\\n",
       " \\end{bmatrix}\n",
       "$$"
      ],
      "text/plain": [
       "<IPython.core.display.Latex object>"
      ]
     },
     "execution_count": 8,
     "metadata": {},
     "output_type": "execute_result"
    }
   ],
   "source": [
    "qiskit.visualization.array_to_latex(choi_fit)"
   ]
  },
  {
   "cell_type": "code",
   "execution_count": null,
   "id": "a04d1df9",
   "metadata": {},
   "outputs": [],
   "source": []
  },
  {
   "cell_type": "code",
   "execution_count": null,
   "id": "a70a6618",
   "metadata": {},
   "outputs": [],
   "source": []
  },
  {
   "cell_type": "code",
   "execution_count": 9,
   "id": "97fc8d61",
   "metadata": {},
   "outputs": [
    {
     "data": {
      "image/png": "[encoded data removed]",
      "text/plain": [
       "<Figure size 864x648 with 5 Axes>"
      ]
     },
     "execution_count": 9,
     "metadata": {},
     "output_type": "execute_result"
    }
   ],
   "source": [
    "backend = provider.get_backend('ibmq_quito') \n",
    "qiskit.visualization.plot_error_map(backend)"
   ]
  },
  {
   "cell_type": "code",
   "execution_count": 10,
   "id": "fb50c6a0",
   "metadata": {},
   "outputs": [
    {
     "data": {
      "text/plain": [
       "{(('Zp',), ('X',)): {'0': 2080, '1': 1920},\n",
       " (('Zp',), ('Y',)): {'0': 2157, '1': 1843},\n",
       " (('Zp',), ('Z',)): {'0': 1886, '1': 2114},\n",
       " (('Zm',), ('X',)): {'0': 2034, '1': 1966},\n",
       " (('Zm',), ('Y',)): {'0': 2005, '1': 1995},\n",
       " (('Zm',), ('Z',)): {'0': 2076, '1': 1924},\n",
       " (('Xp',), ('X',)): {'0': 1842, '1': 2158},\n",
       " (('Xp',), ('Y',)): {'0': 2039, '1': 1961},\n",
       " (('Xp',), ('Z',)): {'0': 1938, '1': 2062},\n",
       " (('Yp',), ('X',)): {'0': 2021, '1': 1979},\n",
       " (('Yp',), ('Y',)): {'0': 2606, '1': 1394},\n",
       " (('Yp',), ('Z',)): {'0': 2008, '1': 1992}}"
      ]
     },
     "execution_count": 10,
     "metadata": {},
     "output_type": "execute_result"
    }
   ],
   "source": [
    "qpt_circs = process_tomography_circuits(circuit, qreg_q[4], prepared_qubits=qreg_q[0])\n",
    "job = qiskit.execute(qpt_circs, backend, shots=4000)\n",
    "\n",
    "# Extract tomography data so that counts are indexed by measurement configuration\n",
    "qpt_tomo = ProcessTomographyFitter(job.result(), qpt_circs)\n",
    "qpt_tomo.data"
   ]
  },
  {
   "cell_type": "code",
   "execution_count": 11,
   "id": "4c4451f8",
   "metadata": {},
   "outputs": [
    {
     "name": "stdout",
     "output_type": "stream",
     "text": [
      "Fit time: 0.004724264144897461\n",
      "Average gate fidelity: F = 0.51792\n"
     ]
    }
   ],
   "source": [
    "# Tomographic reconstruction\n",
    "\n",
    "t = time.time()\n",
    "choi_fit = qpt_tomo.fit(method='lstsq')\n",
    "print('Fit time:', time.time() - t)\n",
    "print('Average gate fidelity: F = {:.5f}'.format(qi.average_gate_fidelity(choi_fit)))"
   ]
  },
  {
   "cell_type": "code",
   "execution_count": 12,
   "id": "6caaa30e",
   "metadata": {},
   "outputs": [
    {
     "data": {
      "text/latex": [
       "$$\n",
       "\n",
       "\\begin{bmatrix}\n",
       "0.4715 & 0.02 - 0.03925i & -0.01075 + 0.00675i & 0.0775 + 0.0015i  \\\\\n",
       " 0.02 + 0.03925i & 0.5285 & -0.185 - 0.0195i & 0.01075 - 0.00675i  \\\\\n",
       " -0.01075 - 0.00675i & -0.185 + 0.0195i & 0.519 & 0.0085 - 0.00125i  \\\\\n",
       " 0.0775 - 0.0015i & 0.01075 + 0.00675i & 0.0085 + 0.00125i & 0.481  \\\\\n",
       " \\end{bmatrix}\n",
       "$$"
      ],
      "text/plain": [
       "<IPython.core.display.Latex object>"
      ]
     },
     "execution_count": 12,
     "metadata": {},
     "output_type": "execute_result"
    }
   ],
   "source": [
    "qiskit.visualization.array_to_latex(choi_fit)"
   ]
  },
  {
   "cell_type": "code",
   "execution_count": null,
   "id": "895d3fae",
   "metadata": {},
   "outputs": [],
   "source": []
  },
  {
   "cell_type": "code",
   "execution_count": null,
   "id": "88c0231c",
   "metadata": {},
   "outputs": [],
   "source": [
    "# CHAIN CLUSTER"
   ]
  },
  {
   "cell_type": "code",
   "execution_count": 15,
   "id": "6f39cd09",
   "metadata": {},
   "outputs": [
    {
     "data": {
      "text/plain": [
       "<qiskit.circuit.instructionset.InstructionSet at 0x2241a12f940>"
      ]
     },
     "execution_count": 15,
     "metadata": {},
     "output_type": "execute_result"
    }
   ],
   "source": [
    "qreg_q = QuantumRegister(5, 'q')\n",
    "circuit = QuantumCircuit(qreg_q)\n",
    "\n",
    "\n",
    "circuit.rx(pi/2, qreg_q[0])\n",
    "circuit.h(qreg_q[1])\n",
    "circuit.cx(qreg_q[1], qreg_q[2])\n",
    "circuit.h(qreg_q[2])\n",
    "circuit.cx(qreg_q[2], qreg_q[3])\n",
    "circuit.cx(qreg_q[0], qreg_q[1])\n",
    "circuit.h(qreg_q[3])\n",
    "circuit.h(qreg_q[0])\n",
    "circuit.h(qreg_q[2])\n",
    "circuit.cx(qreg_q[3], qreg_q[4])\n",
    "circuit.h(qreg_q[3])\n",
    "\n",
    "circuit.cz(qreg_q[0], qreg_q[4])\n",
    "circuit.cx(qreg_q[1], qreg_q[4])\n",
    "circuit.cx(qreg_q[2], qreg_q[4])\n",
    "circuit.cz(qreg_q[3], qreg_q[4])\n",
    "\n",
    "\n",
    "\n",
    "circuit.rx(-pi/2, qreg_q[4])\n"
   ]
  },
  {
   "cell_type": "code",
   "execution_count": 16,
   "id": "5ee7c1d5",
   "metadata": {},
   "outputs": [
    {
     "data": {
      "image/png": "[encoded data removed]",
      "text/plain": [
       "<Figure size 808.997x325.08 with 1 Axes>"
      ]
     },
     "execution_count": 16,
     "metadata": {},
     "output_type": "execute_result"
    }
   ],
   "source": [
    "circuit.draw('mpl',style='bw')"
   ]
  },
  {
   "cell_type": "code",
   "execution_count": 17,
   "id": "9bd1a08d",
   "metadata": {},
   "outputs": [],
   "source": [
    "backend = provider.get_backend('ibmq_qasm_simulator')"
   ]
  },
  {
   "cell_type": "code",
   "execution_count": 18,
   "id": "c0abd33a",
   "metadata": {
    "scrolled": true
   },
   "outputs": [
    {
     "data": {
      "text/plain": [
       "{(('Zp',), ('X',)): {'0': 1963, '1': 2037},\n",
       " (('Zp',), ('Y',)): {'0': 1978, '1': 2022},\n",
       " (('Zp',), ('Z',)): {'0': 4000},\n",
       " (('Zm',), ('X',)): {'0': 2009, '1': 1991},\n",
       " (('Zm',), ('Y',)): {'0': 1988, '1': 2012},\n",
       " (('Zm',), ('Z',)): {'1': 4000},\n",
       " (('Xp',), ('X',)): {'0': 4000},\n",
       " (('Xp',), ('Y',)): {'0': 2020, '1': 1980},\n",
       " (('Xp',), ('Z',)): {'0': 1969, '1': 2031},\n",
       " (('Yp',), ('X',)): {'0': 1941, '1': 2059},\n",
       " (('Yp',), ('Y',)): {'0': 4000},\n",
       " (('Yp',), ('Z',)): {'0': 2073, '1': 1927}}"
      ]
     },
     "execution_count": 18,
     "metadata": {},
     "output_type": "execute_result"
    }
   ],
   "source": [
    "qpt_circs = process_tomography_circuits(circuit, qreg_q[4], prepared_qubits=qreg_q[0])\n",
    "job = qiskit.execute(qpt_circs, backend, shots=4000)\n",
    "\n",
    "# Extract tomography data so that counts are indexed by measurement configuration\n",
    "qpt_tomo = ProcessTomographyFitter(job.result(), qpt_circs)\n",
    "qpt_tomo.data"
   ]
  },
  {
   "cell_type": "code",
   "execution_count": 19,
   "id": "9374cfd3",
   "metadata": {
    "scrolled": true
   },
   "outputs": [
    {
     "name": "stdout",
     "output_type": "stream",
     "text": [
      "Fit time: 0.003999471664428711\n",
      "Average gate fidelity: F = 0.99788\n"
     ]
    }
   ],
   "source": [
    "# Tomographic reconstruction\n",
    "\n",
    "t = time.time()\n",
    "choi_fit = qpt_tomo.fit(method='lstsq')\n",
    "print('Fit time:', time.time() - t)\n",
    "print('Average gate fidelity: F = {:.5f}'.format(qi.average_gate_fidelity(choi_fit)))"
   ]
  },
  {
   "cell_type": "code",
   "execution_count": 20,
   "id": "3c100dd6",
   "metadata": {},
   "outputs": [
    {
     "data": {
      "text/latex": [
       "$$\n",
       "\n",
       "\\begin{bmatrix}\n",
       "0.9981 & -0.00168 + 0.01085i & -0.00337 + 0.00892i & 0.99554 - 0.02015i  \\\\\n",
       " -0.00168 - 0.01085i & 0.00181 & -0.00032 - 0.00173i & 0.0003 - 0.01255i  \\\\\n",
       " -0.00337 - 0.00892i & -0.00032 + 0.00173i & 0.00202 & -0.00227 - 0.00611i  \\\\\n",
       " 0.99554 + 0.02015i & 0.0003 + 0.01255i & -0.00227 + 0.00611i & 0.99806  \\\\\n",
       " \\end{bmatrix}\n",
       "$$"
      ],
      "text/plain": [
       "<IPython.core.display.Latex object>"
      ]
     },
     "execution_count": 20,
     "metadata": {},
     "output_type": "execute_result"
    }
   ],
   "source": [
    "qiskit.visualization.array_to_latex(choi_fit)"
   ]
  },
  {
   "cell_type": "code",
   "execution_count": null,
   "id": "50f4bb7f",
   "metadata": {},
   "outputs": [],
   "source": []
  },
  {
   "cell_type": "code",
   "execution_count": 21,
   "id": "d8f95cba",
   "metadata": {},
   "outputs": [
    {
     "data": {
      "image/png": "[encoded data removed]",
      "text/plain": [
       "<Figure size 864x648 with 5 Axes>"
      ]
     },
     "execution_count": 21,
     "metadata": {},
     "output_type": "execute_result"
    }
   ],
   "source": [
    "backend = provider.get_backend('ibmq_santiago') \n",
    "qiskit.visualization.plot_error_map(backend)"
   ]
  },
  {
   "cell_type": "code",
   "execution_count": 22,
   "id": "b693b790",
   "metadata": {},
   "outputs": [
    {
     "data": {
      "text/plain": [
       "{(('Zp',), ('X',)): {'0': 1884, '1': 2116},\n",
       " (('Zp',), ('Y',)): {'0': 1977, '1': 2023},\n",
       " (('Zp',), ('Z',)): {'0': 2343, '1': 1657},\n",
       " (('Zm',), ('X',)): {'0': 2007, '1': 1993},\n",
       " (('Zm',), ('Y',)): {'0': 1781, '1': 2219},\n",
       " (('Zm',), ('Z',)): {'0': 1770, '1': 2230},\n",
       " (('Xp',), ('X',)): {'0': 2540, '1': 1460},\n",
       " (('Xp',), ('Y',)): {'0': 2529, '1': 1471},\n",
       " (('Xp',), ('Z',)): {'0': 2288, '1': 1712},\n",
       " (('Yp',), ('X',)): {'0': 1995, '1': 2005},\n",
       " (('Yp',), ('Y',)): {'0': 2694, '1': 1306},\n",
       " (('Yp',), ('Z',)): {'0': 2022, '1': 1978}}"
      ]
     },
     "execution_count": 22,
     "metadata": {},
     "output_type": "execute_result"
    }
   ],
   "source": [
    "qpt_circs = process_tomography_circuits(circuit, qreg_q[4], prepared_qubits=qreg_q[0])\n",
    "job = qiskit.execute(qpt_circs, backend, shots=4000)\n",
    "\n",
    "# Extract tomography data so that counts are indexed by measurement configuration\n",
    "qpt_tomo = ProcessTomographyFitter(job.result(), qpt_circs)\n",
    "qpt_tomo.data"
   ]
  },
  {
   "cell_type": "code",
   "execution_count": 23,
   "id": "3c9f02e0",
   "metadata": {},
   "outputs": [
    {
     "name": "stdout",
     "output_type": "stream",
     "text": [
      "Fit time: 0.00624394416809082\n",
      "Average gate fidelity: F = 0.64133\n"
     ]
    }
   ],
   "source": [
    "# Tomographic reconstruction\n",
    "\n",
    "t = time.time()\n",
    "choi_fit = qpt_tomo.fit(method='lstsq')\n",
    "print('Fit time:', time.time() - t)\n",
    "print('Average gate fidelity: F = {:.5f}'.format(qi.average_gate_fidelity(choi_fit)))"
   ]
  },
  {
   "cell_type": "code",
   "execution_count": 24,
   "id": "2f4d4c97",
   "metadata": {},
   "outputs": [
    {
     "data": {
      "text/latex": [
       "$$\n",
       "\n",
       "\\begin{bmatrix}\n",
       "0.58575 & -0.029 + 0.00575i & 0.05787 - 0.00863i & 0.35237 - 0.15013i  \\\\\n",
       " -0.029 - 0.00575i & 0.41425 & -0.05513 + 0.17487i & -0.05787 + 0.00863i  \\\\\n",
       " 0.05787 + 0.00863i & -0.05513 - 0.17487i & 0.4425 & 0.00175 + 0.05475i  \\\\\n",
       " 0.35237 + 0.15013i & -0.05787 - 0.00863i & 0.00175 - 0.05475i & 0.5575  \\\\\n",
       " \\end{bmatrix}\n",
       "$$"
      ],
      "text/plain": [
       "<IPython.core.display.Latex object>"
      ]
     },
     "execution_count": 24,
     "metadata": {},
     "output_type": "execute_result"
    }
   ],
   "source": [
    "qiskit.visualization.array_to_latex(choi_fit)"
   ]
  },
  {
   "cell_type": "code",
   "execution_count": null,
   "id": "2fc699fb",
   "metadata": {},
   "outputs": [],
   "source": []
  },
  {
   "cell_type": "code",
   "execution_count": null,
   "id": "a4ea5036",
   "metadata": {},
   "outputs": [],
   "source": []
  },
  {
   "cell_type": "code",
   "execution_count": 25,
   "id": "a405cc77",
   "metadata": {},
   "outputs": [],
   "source": [
    "# GHZ"
   ]
  },
  {
   "cell_type": "code",
   "execution_count": 26,
   "id": "dea2450b",
   "metadata": {},
   "outputs": [
    {
     "data": {
      "text/plain": [
       "<qiskit.circuit.instructionset.InstructionSet at 0x2241a885cc0>"
      ]
     },
     "execution_count": 26,
     "metadata": {},
     "output_type": "execute_result"
    }
   ],
   "source": [
    "qreg_q = QuantumRegister(5, 'q')\n",
    "circuit = QuantumCircuit(qreg_q)\n",
    "\n",
    "circuit.rx(pi/2, qreg_q[0])\n",
    "circuit.h(qreg_q[1])\n",
    "circuit.cx(qreg_q[1], qreg_q[2])\n",
    "circuit.cx(qreg_q[1], qreg_q[3])\n",
    "circuit.cx(qreg_q[1], qreg_q[4])\n",
    "circuit.cx(qreg_q[0], qreg_q[1])\n",
    "circuit.cx(qreg_q[0], qreg_q[2])\n",
    "circuit.cx(qreg_q[0], qreg_q[3])\n",
    "circuit.h(qreg_q[0])\n",
    "# circuit.barrier(qreg_q[0], qreg_q[1], qreg_q[2], qreg_q[3], qreg_q[4])\n",
    "circuit.cx(qreg_q[3], qreg_q[4])\n",
    "circuit.cz(qreg_q[0], qreg_q[4])\n",
    "circuit.rx(-pi/2, qreg_q[4])\n"
   ]
  },
  {
   "cell_type": "code",
   "execution_count": 27,
   "id": "c3a1d1cd",
   "metadata": {},
   "outputs": [],
   "source": [
    "backend = provider.get_backend('ibmq_qasm_simulator')"
   ]
  },
  {
   "cell_type": "code",
   "execution_count": 28,
   "id": "a4fb1c84",
   "metadata": {},
   "outputs": [
    {
     "data": {
      "text/plain": [
       "{(('Zp',), ('X',)): {'0': 1981, '1': 2019},\n",
       " (('Zp',), ('Y',)): {'0': 2012, '1': 1988},\n",
       " (('Zp',), ('Z',)): {'0': 4000},\n",
       " (('Zm',), ('X',)): {'0': 2003, '1': 1997},\n",
       " (('Zm',), ('Y',)): {'0': 2002, '1': 1998},\n",
       " (('Zm',), ('Z',)): {'1': 4000},\n",
       " (('Xp',), ('X',)): {'0': 4000},\n",
       " (('Xp',), ('Y',)): {'0': 1963, '1': 2037},\n",
       " (('Xp',), ('Z',)): {'0': 1959, '1': 2041},\n",
       " (('Yp',), ('X',)): {'0': 2034, '1': 1966},\n",
       " (('Yp',), ('Y',)): {'0': 4000},\n",
       " (('Yp',), ('Z',)): {'0': 2024, '1': 1976}}"
      ]
     },
     "execution_count": 28,
     "metadata": {},
     "output_type": "execute_result"
    }
   ],
   "source": [
    "qpt_circs = process_tomography_circuits(circuit, qreg_q[4], prepared_qubits=qreg_q[0])\n",
    "job = qiskit.execute(qpt_circs, backend, shots=4000)\n",
    "\n",
    "# Extract tomography data so that counts are indexed by measurement configuration\n",
    "qpt_tomo = ProcessTomographyFitter(job.result(), qpt_circs)\n",
    "qpt_tomo.data"
   ]
  },
  {
   "cell_type": "code",
   "execution_count": 29,
   "id": "8c494b0f",
   "metadata": {},
   "outputs": [
    {
     "name": "stdout",
     "output_type": "stream",
     "text": [
      "Fit time: 0.0035104751586914062\n",
      "Average gate fidelity: F = 0.99727\n"
     ]
    }
   ],
   "source": [
    "# Tomographic reconstruction\n",
    "\n",
    "t = time.time()\n",
    "choi_fit = qpt_tomo.fit(method='lstsq')\n",
    "print('Fit time:', time.time() - t)\n",
    "print('Average gate fidelity: F = {:.5f}'.format(qi.average_gate_fidelity(choi_fit)))"
   ]
  },
  {
   "cell_type": "code",
   "execution_count": 30,
   "id": "a7a6a00c",
   "metadata": {},
   "outputs": [
    {
     "data": {
      "text/latex": [
       "$$\n",
       "\n",
       "\\begin{bmatrix}\n",
       "0.99777 & 0.00069 + 0.00067i & -0.00638 + 0.00368i & 0.99406 + 0.02137i  \\\\\n",
       " 0.00069 - 0.00067i & 0.00276 & 0.00164 - 0.00136i & 0.0047 - 0.00244i  \\\\\n",
       " -0.00638 - 0.00368i & 0.00164 + 0.00136i & 0.00171 & -0.00302 - 0.00288i  \\\\\n",
       " 0.99406 - 0.02137i & 0.0047 + 0.00244i & -0.00302 + 0.00288i & 0.99776  \\\\\n",
       " \\end{bmatrix}\n",
       "$$"
      ],
      "text/plain": [
       "<IPython.core.display.Latex object>"
      ]
     },
     "execution_count": 30,
     "metadata": {},
     "output_type": "execute_result"
    }
   ],
   "source": [
    "qiskit.visualization.array_to_latex(choi_fit)"
   ]
  },
  {
   "cell_type": "code",
   "execution_count": null,
   "id": "7e670077",
   "metadata": {},
   "outputs": [],
   "source": []
  },
  {
   "cell_type": "code",
   "execution_count": 31,
   "id": "3823fc16",
   "metadata": {},
   "outputs": [
    {
     "data": {
      "image/png": "[encoded data removed]",
      "text/plain": [
       "<Figure size 864x648 with 5 Axes>"
      ]
     },
     "execution_count": 31,
     "metadata": {},
     "output_type": "execute_result"
    }
   ],
   "source": [
    "backend = provider.get_backend('ibmq_santiago') \n",
    "qiskit.visualization.plot_error_map(backend)"
   ]
  },
  {
   "cell_type": "code",
   "execution_count": 32,
   "id": "96cdade7",
   "metadata": {},
   "outputs": [
    {
     "data": {
      "text/plain": [
       "{(('Zp',), ('X',)): {'0': 2156, '1': 1844},\n",
       " (('Zp',), ('Y',)): {'0': 2228, '1': 1772},\n",
       " (('Zp',), ('Z',)): {'0': 2036, '1': 1964},\n",
       " (('Zm',), ('X',)): {'0': 1881, '1': 2119},\n",
       " (('Zm',), ('Y',)): {'0': 1920, '1': 2080},\n",
       " (('Zm',), ('Z',)): {'0': 1857, '1': 2143},\n",
       " (('Xp',), ('X',)): {'0': 2022, '1': 1978},\n",
       " (('Xp',), ('Y',)): {'0': 2537, '1': 1463},\n",
       " (('Xp',), ('Z',)): {'0': 1857, '1': 2143},\n",
       " (('Yp',), ('X',)): {'0': 1850, '1': 2150},\n",
       " (('Yp',), ('Y',)): {'0': 2132, '1': 1868},\n",
       " (('Yp',), ('Z',)): {'0': 1995, '1': 2005}}"
      ]
     },
     "execution_count": 32,
     "metadata": {},
     "output_type": "execute_result"
    }
   ],
   "source": [
    "qpt_circs = process_tomography_circuits(circuit, qreg_q[4], prepared_qubits=qreg_q[0])\n",
    "job = qiskit.execute(qpt_circs, backend, shots=4000)\n",
    "\n",
    "# Extract tomography data so that counts are indexed by measurement configuration\n",
    "qpt_tomo = ProcessTomographyFitter(job.result(), qpt_circs)\n",
    "qpt_tomo.data"
   ]
  },
  {
   "cell_type": "code",
   "execution_count": 33,
   "id": "de4947db",
   "metadata": {},
   "outputs": [
    {
     "name": "stdout",
     "output_type": "stream",
     "text": [
      "Fit time: 0.0029740333557128906\n",
      "Average gate fidelity: F = 0.51258\n"
     ]
    }
   ],
   "source": [
    "# Tomographic reconstruction\n",
    "\n",
    "t = time.time()\n",
    "choi_fit = qpt_tomo.fit(method='lstsq')\n",
    "print('Fit time:', time.time() - t)\n",
    "print('Average gate fidelity: F = {:.5f}'.format(qi.average_gate_fidelity(choi_fit)))"
   ]
  },
  {
   "cell_type": "code",
   "execution_count": 34,
   "id": "8c746150",
   "metadata": {},
   "outputs": [
    {
     "data": {
      "text/latex": [
       "$$\n",
       "\n",
       "\\begin{bmatrix}\n",
       "0.509 & 0.039 - 0.057i & -0.02238 + 0.01213i & 0.01537 - 0.15788i  \\\\\n",
       " 0.039 + 0.057i & 0.491 & -0.01362 + 0.07363i & 0.02237 - 0.01212i  \\\\\n",
       " -0.02238 - 0.01213i & -0.01362 - 0.07363i & 0.46425 & -0.02975 + 0.02i  \\\\\n",
       " 0.01537 + 0.15788i & 0.02237 + 0.01212i & -0.02975 - 0.02i & 0.53575  \\\\\n",
       " \\end{bmatrix}\n",
       "$$"
      ],
      "text/plain": [
       "<IPython.core.display.Latex object>"
      ]
     },
     "execution_count": 34,
     "metadata": {},
     "output_type": "execute_result"
    }
   ],
   "source": [
    "qiskit.visualization.array_to_latex(choi_fit)"
   ]
  },
  {
   "cell_type": "code",
   "execution_count": null,
   "id": "4a87616c",
   "metadata": {},
   "outputs": [],
   "source": []
  },
  {
   "cell_type": "code",
   "execution_count": 3,
   "id": "dae3bc98",
   "metadata": {},
   "outputs": [
    {
     "data": {
      "text/plain": [
       "<qiskit.circuit.instructionset.InstructionSet at 0x2186b5e7b80>"
      ]
     },
     "execution_count": 3,
     "metadata": {},
     "output_type": "execute_result"
    }
   ],
   "source": [
    "qreg_q = QuantumRegister(2, 'q')\n",
    "circuit = QuantumCircuit(qreg_q)\n",
    "\n",
    "circuit.cx(qreg_q[0],qreg_q[1])\n",
    "circuit.cx(qreg_q[1],qreg_q[0])\n",
    "circuit.cx(qreg_q[0],qreg_q[1])"
   ]
  },
  {
   "cell_type": "code",
   "execution_count": 4,
   "id": "87528aba",
   "metadata": {},
   "outputs": [
    {
     "data": {
      "image/png": "[encoded data removed]",
      "text/plain": [
       "<Figure size 267.052x144.48 with 1 Axes>"
      ]
     },
     "execution_count": 4,
     "metadata": {},
     "output_type": "execute_result"
    }
   ],
   "source": [
    "circuit.draw('mpl',style='bw')"
   ]
  },
  {
   "cell_type": "code",
   "execution_count": 11,
   "id": "d477b6ed",
   "metadata": {},
   "outputs": [],
   "source": [
    "# provider = IBMQ.load_account()\n",
    "backend = Aer.get_backend('qasm_simulator')"
   ]
  },
  {
   "cell_type": "code",
   "execution_count": 14,
   "id": "9d0487ad",
   "metadata": {},
   "outputs": [
    {
     "data": {
      "text/plain": [
       "{(('Zp',), ('X',)): {'1': 2028, '0': 1972},\n",
       " (('Zp',), ('Y',)): {'1': 2011, '0': 1989},\n",
       " (('Zp',), ('Z',)): {'0': 4000},\n",
       " (('Zm',), ('X',)): {'1': 1984, '0': 2016},\n",
       " (('Zm',), ('Y',)): {'1': 1946, '0': 2054},\n",
       " (('Zm',), ('Z',)): {'1': 4000},\n",
       " (('Xp',), ('X',)): {'0': 4000},\n",
       " (('Xp',), ('Y',)): {'0': 2004, '1': 1996},\n",
       " (('Xp',), ('Z',)): {'0': 1951, '1': 2049},\n",
       " (('Yp',), ('X',)): {'1': 1993, '0': 2007},\n",
       " (('Yp',), ('Y',)): {'0': 4000},\n",
       " (('Yp',), ('Z',)): {'1': 1971, '0': 2029}}"
      ]
     },
     "execution_count": 14,
     "metadata": {},
     "output_type": "execute_result"
    }
   ],
   "source": [
    "qpt_circs = process_tomography_circuits(circuit, qreg_q[1], prepared_qubits=qreg_q[0])\n",
    "job = qiskit.execute(qpt_circs, backend, shots=4000)\n",
    "\n",
    "# Extract tomography data so that counts are indexed by measurement configuration\n",
    "qpt_tomo = ProcessTomographyFitter(job.result(), qpt_circs)\n",
    "qpt_tomo.data"
   ]
  },
  {
   "cell_type": "code",
   "execution_count": 15,
   "id": "04c2a7cc",
   "metadata": {},
   "outputs": [
    {
     "name": "stdout",
     "output_type": "stream",
     "text": [
      "Fit time: 0.012454032897949219\n",
      "Average gate fidelity: F = 0.99535\n"
     ]
    }
   ],
   "source": [
    "# Tomographic reconstruction\n",
    "\n",
    "t = time.time()\n",
    "choi_fit = qpt_tomo.fit(method='lstsq')\n",
    "print('Fit time:', time.time() - t)\n",
    "print('Average gate fidelity: F = {:.5f}'.format(qi.average_gate_fidelity(choi_fit)))"
   ]
  },
  {
   "cell_type": "code",
   "execution_count": 16,
   "id": "4ffb0c9f",
   "metadata": {},
   "outputs": [
    {
     "data": {
      "text/latex": [
       "$$\n",
       "\n",
       "\\begin{bmatrix}\n",
       "0.99618 & -0.00084 + 0.00399i & -0.0073 + 0.00936i & 0.98983 + 0.00766i  \\\\\n",
       " -0.00084 - 0.00399i & 0.00403 & 0.00374 + 0.00004i & 0.00602 - 0.00602i  \\\\\n",
       " -0.0073 - 0.00936i & 0.00374 - 0.00004i & 0.00356 & -0.0009 - 0.01129i  \\\\\n",
       " 0.98983 - 0.00766i & 0.00602 + 0.00602i & -0.0009 + 0.01129i & 0.99623  \\\\\n",
       " \\end{bmatrix}\n",
       "$$"
      ],
      "text/plain": [
       "<IPython.core.display.Latex object>"
      ]
     },
     "execution_count": 16,
     "metadata": {},
     "output_type": "execute_result"
    }
   ],
   "source": [
    "qiskit.visualization.array_to_latex(choi_fit)"
   ]
  },
  {
   "cell_type": "code",
   "execution_count": 17,
   "id": "f42b6525",
   "metadata": {},
   "outputs": [],
   "source": [
    "noise_model = noise.NoiseModel()\n",
    "for qubit in range(2):\n",
    "    read_err = noise.errors.readout_error.ReadoutError([[0.75, 0.25],[0.1,0.9]])\n",
    "    noise_model.add_readout_error(read_err,[qubit])\n",
    "# Параметры ошибки деполяризации\n",
    "# Вероятности ошибки\n",
    "prob_1gate = 0.001  # Однокубитный гейт\n",
    "prob_2gate = 0.1   # Двухкубитный гейт\n",
    "\n",
    "# Ошибки деполяризации\n",
    "error_1 = noise.depolarizing_error(prob_1gate, 1)\n",
    "error_2 = noise.depolarizing_error(prob_2gate, 2)\n",
    "noise_model.add_all_qubit_quantum_error(error_1, ['u1', 'u2', 'u3'])\n",
    "noise_model.add_all_qubit_quantum_error(error_2, ['cx'])"
   ]
  },
  {
   "cell_type": "code",
   "execution_count": 18,
   "id": "f154df82",
   "metadata": {},
   "outputs": [
    {
     "data": {
      "text/plain": [
       "{(('Zp',), ('X',)): {'1': 2314, '0': 1686},\n",
       " (('Zp',), ('Y',)): {'0': 1653, '1': 2347},\n",
       " (('Zp',), ('Z',)): {'1': 1366, '0': 2634},\n",
       " (('Zm',), ('X',)): {'1': 2281, '0': 1719},\n",
       " (('Zm',), ('Y',)): {'0': 1731, '1': 2269},\n",
       " (('Zm',), ('Z',)): {'1': 3247, '0': 753},\n",
       " (('Xp',), ('X',)): {'1': 1388, '0': 2612},\n",
       " (('Xp',), ('Y',)): {'0': 1687, '1': 2313},\n",
       " (('Xp',), ('Z',)): {'1': 2332, '0': 1668},\n",
       " (('Yp',), ('X',)): {'1': 2322, '0': 1678},\n",
       " (('Yp',), ('Y',)): {'1': 1356, '0': 2644},\n",
       " (('Yp',), ('Z',)): {'1': 2291, '0': 1709}}"
      ]
     },
     "execution_count": 18,
     "metadata": {},
     "output_type": "execute_result"
    }
   ],
   "source": [
    "\n",
    "qpt_circs = process_tomography_circuits(circuit, qreg_q[1], prepared_qubits=qreg_q[0])\n",
    "job = qiskit.execute(qpt_circs, backend, shots=4000,noise_model=noise_model)\n",
    "\n",
    "# Extract tomography data so that counts are indexed by measurement configuration\n",
    "qpt_tomo = ProcessTomographyFitter(job.result(), qpt_circs)\n",
    "qpt_tomo.data"
   ]
  },
  {
   "cell_type": "code",
   "execution_count": 19,
   "id": "c8671c9a",
   "metadata": {},
   "outputs": [
    {
     "name": "stdout",
     "output_type": "stream",
     "text": [
      "Fit time: 0.003194093704223633\n",
      "Average gate fidelity: F = 0.73350\n"
     ]
    }
   ],
   "source": [
    "# Tomographic reconstruction\n",
    "\n",
    "t = time.time()\n",
    "choi_fit = qpt_tomo.fit(method='lstsq')\n",
    "print('Fit time:', time.time() - t)\n",
    "print('Average gate fidelity: F = {:.5f}'.format(qi.average_gate_fidelity(choi_fit)))"
   ]
  },
  {
   "cell_type": "code",
   "execution_count": 20,
   "id": "b9374da3",
   "metadata": {},
   "outputs": [
    {
     "data": {
      "text/latex": [
       "$$\n",
       "\n",
       "\\begin{bmatrix}\n",
       "0.6585 & -0.0785 + 0.08675i & -0.00637 + 0.00387i & 0.46537 - 0.00488i  \\\\\n",
       " -0.0785 - 0.08675i & 0.3415 & -0.01062 - 0.00737i & 0.00638 - 0.00387i  \\\\\n",
       " -0.00637 - 0.00387i & -0.01062 + 0.00737i & 0.18825 & -0.07025 + 0.06725i  \\\\\n",
       " 0.46537 + 0.00488i & 0.00638 + 0.00387i & -0.07025 - 0.06725i & 0.81175  \\\\\n",
       " \\end{bmatrix}\n",
       "$$"
      ],
      "text/plain": [
       "<IPython.core.display.Latex object>"
      ]
     },
     "execution_count": 20,
     "metadata": {},
     "output_type": "execute_result"
    }
   ],
   "source": [
    "qiskit.visualization.array_to_latex(choi_fit)"
   ]
  },
  {
   "cell_type": "code",
   "execution_count": 36,
   "id": "f57ace05",
   "metadata": {},
   "outputs": [
    {
     "data": {
      "text/plain": [
       "Choi([[ 0.6585  +0.j      , -0.0785  +0.08675j , -0.006375+0.003875j,\n",
       "        0.465375-0.004875j],\n",
       "      [-0.0785  -0.08675j ,  0.3415  +0.j      , -0.010625-0.007375j,\n",
       "        0.006375-0.003875j],\n",
       "      [-0.006375-0.003875j, -0.010625+0.007375j,  0.18825 +0.j      ,\n",
       "       -0.07025 +0.06725j ],\n",
       "      [ 0.465375+0.004875j,  0.006375+0.003875j, -0.07025 -0.06725j ,\n",
       "        0.81175 +0.j      ]],\n",
       "     input_dims=(2,), output_dims=(2,))"
      ]
     },
     "execution_count": 36,
     "metadata": {},
     "output_type": "execute_result"
    }
   ],
   "source": [
    "choi_fit"
   ]
  },
  {
   "cell_type": "code",
   "execution_count": 31,
   "id": "6adeb070",
   "metadata": {},
   "outputs": [],
   "source": [
    "ideal = np.zeros((4,4))"
   ]
  },
  {
   "cell_type": "code",
   "execution_count": 32,
   "id": "2c9e2078",
   "metadata": {},
   "outputs": [],
   "source": [
    "ideal[0][0]=1\n",
    "# ideal[1][1]=1\n",
    "# ideal[2][2]=1\n",
    "# ideal[3][3]=1\n"
   ]
  },
  {
   "cell_type": "code",
   "execution_count": 33,
   "id": "ef647247",
   "metadata": {},
   "outputs": [
    {
     "data": {
      "text/plain": [
       "array([[1., 0., 0., 0.],\n",
       "       [0., 0., 0., 0.],\n",
       "       [0., 0., 0., 0.],\n",
       "       [0., 0., 0., 0.]])"
      ]
     },
     "execution_count": 33,
     "metadata": {},
     "output_type": "execute_result"
    }
   ],
   "source": [
    "ideal"
   ]
  },
  {
   "cell_type": "code",
   "execution_count": null,
   "id": "20b77fb3",
   "metadata": {},
   "outputs": [],
   "source": []
  },
  {
   "cell_type": "code",
   "execution_count": 37,
   "id": "f371bfe8",
   "metadata": {},
   "outputs": [],
   "source": [
    "rho = choi_fit.dot(ideal)"
   ]
  },
  {
   "cell_type": "code",
   "execution_count": 39,
   "id": "face9ae9",
   "metadata": {},
   "outputs": [
    {
     "data": {
      "image/png": "[encoded data removed]",
      "text/plain": [
       "<Figure size 576x288 with 2 Axes>"
      ]
     },
     "execution_count": 39,
     "metadata": {},
     "output_type": "execute_result"
    }
   ],
   "source": [
    "plot_bloch_multivector(rho.data)"
   ]
  },
  {
   "cell_type": "code",
   "execution_count": null,
   "id": "70d094e0",
   "metadata": {},
   "outputs": [],
   "source": []
  },
  {
   "cell_type": "code",
   "execution_count": null,
   "id": "312570a5",
   "metadata": {},
   "outputs": [],
   "source": []
  },
  {
   "cell_type": "code",
   "execution_count": null,
   "id": "5df8f836",
   "metadata": {},
   "outputs": [],
   "source": []
  }
 ],
 "metadata": {
  "kernelspec": {
   "display_name": "Python 3 (ipykernel)",
   "language": "python",
   "name": "python3"
  },
  "language_info": {
   "codemirror_mode": {
    "name": "ipython",
    "version": 3
   },
   "file_extension": ".py",
   "mimetype": "text/x-python",
   "name": "python",
   "nbconvert_exporter": "python",
   "pygments_lexer": "ipython3",
   "version": "3.10.2"
  }
 },
 "nbformat": 4,
 "nbformat_minor": 5
}
